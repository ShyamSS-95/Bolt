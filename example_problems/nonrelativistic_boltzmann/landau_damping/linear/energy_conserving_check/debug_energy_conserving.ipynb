{
 "cells": [
  {
   "cell_type": "code",
   "execution_count": 18,
   "metadata": {},
   "outputs": [],
   "source": [
    "import numpy as np\n",
    "import arrayfire as af\n",
    "import pylab as pl\n",
    "%matplotlib inline\n",
    "\n",
    "# Optimized plot parameters to make beautiful plots:\n",
    "pl.rcParams['figure.figsize']  = 9, 4\n",
    "pl.rcParams['figure.dpi']      = 300\n",
    "pl.rcParams['image.cmap']      = 'jet'\n",
    "pl.rcParams['lines.linewidth'] = 1.5\n",
    "pl.rcParams['font.family']     = 'serif'\n",
    "pl.rcParams['font.weight']     = 'bold'\n",
    "pl.rcParams['font.size']       = 30\n",
    "pl.rcParams['font.sans-serif'] = 'serif'\n",
    "pl.rcParams['text.usetex']     = True\n",
    "pl.rcParams['axes.linewidth']  = 1.5\n",
    "pl.rcParams['axes.titlesize']  = 'medium'\n",
    "pl.rcParams['axes.labelsize']  = 'medium'\n",
    "\n",
    "pl.rcParams['xtick.major.size'] = 8\n",
    "pl.rcParams['xtick.minor.size'] = 4\n",
    "pl.rcParams['xtick.major.pad']  = 8\n",
    "pl.rcParams['xtick.minor.pad']  = 8\n",
    "pl.rcParams['xtick.color']      = 'k'\n",
    "pl.rcParams['xtick.labelsize']  = 'medium'\n",
    "pl.rcParams['xtick.direction']  = 'in'\n",
    "\n",
    "pl.rcParams['ytick.major.size'] = 8\n",
    "pl.rcParams['ytick.minor.size'] = 4\n",
    "pl.rcParams['ytick.major.pad']  = 8\n",
    "pl.rcParams['ytick.minor.pad']  = 8\n",
    "pl.rcParams['ytick.color']      = 'k'\n",
    "pl.rcParams['ytick.labelsize']  = 'medium'\n",
    "pl.rcParams['ytick.direction']  = 'in'"
   ]
  },
  {
   "cell_type": "code",
   "execution_count": 2,
   "metadata": {
    "code_folding": []
   },
   "outputs": [],
   "source": [
    "# Constants Involved:\n",
    "# Mass:\n",
    "m   = 1\n",
    "# Boltzmann Constant:\n",
    "k   = 1\n",
    "# Charge:\n",
    "e   = -1\n",
    "# Permittivity:\n",
    "eps = 1"
   ]
  },
  {
   "cell_type": "code",
   "execution_count": 3,
   "metadata": {
    "code_folding": []
   },
   "outputs": [],
   "source": [
    "# Declaring the domain:\n",
    "q1_start = -2 * np.pi\n",
    "q1_end   =  2 * np.pi\n",
    "N_q1     = 256\n",
    "N_g      = 3\n",
    "dq1      = (q1_end - q1_start) / N_q1\n",
    "\n",
    "q1_center = q1_start + (0.5 + np.arange(-N_g, N_q1 + N_g)) * dq1\n",
    "\n",
    "p1_start = -15\n",
    "p1_end   =  15\n",
    "N_p1     = 256\n",
    "dp1      = (p1_end - p1_start) / N_p1\n",
    "\n",
    "p1_left   = p1_start + np.arange(N_p1) * dp1\n",
    "p1_center = p1_start + (0.5 + np.arange(N_p1)) * dp1\n",
    "p1_right  = p1_start + (1 + np.arange(N_p1)) * dp1\n",
    "\n",
    "# All declared arrays will follow the format (q1, p1):\n",
    "p1_center, _         = np.meshgrid(p1_center, q1_center)\n",
    "p1_left,   _         = np.meshgrid(p1_left,   q1_center)\n",
    "p1_right,  q1_center = np.meshgrid(p1_right,  q1_center)\n",
    "\n",
    "q1_center = af.to_array(q1_center)\n",
    "p1_center = af.to_array(p1_center)\n",
    "p1_left   = af.to_array(p1_left)\n",
    "p1_right  = af.to_array(p1_right)"
   ]
  },
  {
   "cell_type": "code",
   "execution_count": 4,
   "metadata": {
    "code_folding": []
   },
   "outputs": [],
   "source": [
    "# Functions used for initializations:\n",
    "def initialize_f(q1, v1):\n",
    "\n",
    "    # Background Density:\n",
    "    n_b = 1\n",
    "    # Background Temperature:\n",
    "    T_b = 1\n",
    "    \n",
    "    # Amplitude of Perturbation:\n",
    "    alpha = 0.0001\n",
    "\n",
    "    n   = n_b + alpha * af.cos(0.5 * q1)\n",
    "    T   = T_b\n",
    "    v_b = 0 #alpha * af.sin(0.5 * q1)\n",
    "\n",
    "    f = n * (m / (2 * np.pi * k * T))**(1 / 2) \\\n",
    "          * af.exp(-m * (v1 - v_b)**2 / (2 * k * T)) \\\n",
    "    \n",
    "    af.eval(f)\n",
    "    return (f)\n",
    "\n",
    "def initialize_E1(q1):\n",
    "    \n",
    "    # Amplitude of Perturbation:\n",
    "    alpha  = 0.0001\n",
    "    \n",
    "    phi      = 4 * e *  alpha * af.cos(0.5 * q1)\n",
    "    dphi_dq1 = (phi - af.shift(phi, 1)) / dq1\n",
    "    E1       = -dphi_dq1\n",
    "\n",
    "    af.eval(E1)\n",
    "    return(E1)"
   ]
  },
  {
   "cell_type": "code",
   "execution_count": 5,
   "metadata": {
    "code_folding": []
   },
   "outputs": [],
   "source": [
    "# Initializations:\n",
    "f_n            = initialize_f(q1_center, p1_center)\n",
    "f_n_plus_half  = initialize_f(q1_center, p1_center)\n",
    "E1             = initialize_E1(q1_center)\n",
    "E1_n_plus_half = initialize_E1(q1_center)\n",
    "\n",
    "# Declaring the time array:\n",
    "dt      = 0.0001\n",
    "t_final = 0.1\n",
    "\n",
    "time_array = np.arange(dt, t_final + dt, dt)"
   ]
  },
  {
   "cell_type": "code",
   "execution_count": 6,
   "metadata": {
    "code_folding": []
   },
   "outputs": [],
   "source": [
    "# Used for evolution of E1:\n",
    "def evolve_E1(J1):\n",
    "    global E1, E1_n_plus_half\n",
    "    \n",
    "    E1_old = E1.copy()\n",
    "    E1    += -af.tile(J1, 1, E1.shape[1]) * dt / eps\n",
    "\n",
    "    E1_n_plus_half = 0.5 * (E1 + E1_old)\n",
    "    # DEBUGGING:\n",
    "    # print('J1.E1', af.sum((af.tile(J1, 1, E1.shape[1]) * E1_n_plus_half)[N_g:-N_g]))"
   ]
  },
  {
   "cell_type": "code",
   "execution_count": 7,
   "metadata": {
    "code_folding": [
     0
    ]
   },
   "outputs": [],
   "source": [
    "# Used for reconstruction of the distribution function:\n",
    "def minmod(x, y, z):\n",
    "\n",
    "    min_of_all = af.minof(af.minof(af.abs(x),af.abs(y)), af.abs(z))\n",
    "\n",
    "    # af.sign(x) = 1 for x<0 and af.sign(x) = 0 for x>0:\n",
    "    signx = 1 - 2 * af.sign(x)\n",
    "    signy = 1 - 2 * af.sign(y)\n",
    "    signz = 1 - 2 * af.sign(z)\n",
    "    \n",
    "    result = 0.25 * af.abs(signx + signy) * (signx + signz) * min_of_all\n",
    "\n",
    "    af.eval(result)\n",
    "    return result\n",
    "\n",
    "def slope_minmod(input_array, axis):\n",
    "\n",
    "    if(axis == 0):\n",
    "        \n",
    "        f_i_plus_one  = af.shift(input_array, -1)\n",
    "        f_i_minus_one = af.shift(input_array,  1)\n",
    "  \n",
    "    elif(axis == 1):\n",
    "        \n",
    "        f_i_plus_one  = af.shift(input_array, 0, -1)\n",
    "        f_i_minus_one = af.shift(input_array, 0,  1)\n",
    "\n",
    "    forward_diff  = (f_i_plus_one - input_array  )\n",
    "    backward_diff = (input_array  - f_i_minus_one)\n",
    "    central_diff  = backward_diff + forward_diff\n",
    "\n",
    "    slope_lim_theta = 2\n",
    "\n",
    "    left   = slope_lim_theta * backward_diff\n",
    "    center = 0.5 * central_diff\n",
    "    right  = slope_lim_theta * forward_diff\n",
    "\n",
    "    return(minmod(left, center, right))\n",
    "\n",
    "def reconstruct_minmod(variable_to_reconstruct, axis):\n",
    "    \n",
    "    slope = slope_minmod(variable_to_reconstruct, axis)\n",
    "\n",
    "    left_face_value  = variable_to_reconstruct - 0.5 * slope\n",
    "    right_face_value = variable_to_reconstruct + 0.5 * slope\n",
    "   \n",
    "    return(left_face_value, right_face_value)"
   ]
  },
  {
   "cell_type": "code",
   "execution_count": 8,
   "metadata": {
    "code_folding": [
     0
    ]
   },
   "outputs": [],
   "source": [
    "# Riemann solver used:\n",
    "def riemann_solver(left_state, right_state, velocity):\n",
    "    upwind_state = af.select(velocity > 0, \n",
    "                             left_state,\n",
    "                             right_state\n",
    "                            )\n",
    "\n",
    "    af.eval(upwind_state)\n",
    "    return(upwind_state)"
   ]
  },
  {
   "cell_type": "code",
   "execution_count": 9,
   "metadata": {},
   "outputs": [],
   "source": [
    "# Used for the evolution of the distribution function(s):\n",
    "# When at_n is toggled to true, it returns the df_dt for the evolution\n",
    "# equation used by f^n:\n",
    "def df_dt_fvm(f, at_n):\n",
    "    # Initializing df_dt:\n",
    "    df_dt = 0\n",
    "    \n",
    "    f_left_plus_eps, f_right_minus_eps = reconstruct_minmod(f, 0)\n",
    "    # f_left_minus_eps of i-th cell is f_right_minus_eps of the (i-1)th cell\n",
    "    f_left_minus_eps = af.shift(f_right_minus_eps, 1)\n",
    "    \n",
    "    if(at_n == True):\n",
    "        C_q1 = p1_center**3 / 2\n",
    "    else:\n",
    "        C_q1 = p1_center\n",
    "\n",
    "    f_left  = riemann_solver(f_left_minus_eps, f_left_plus_eps, C_q1)\n",
    "    f_right = af.shift(f_left, -1)\n",
    "    \n",
    "    left_flux  = C_q1 * f_left\n",
    "    right_flux = C_q1 * f_right\n",
    "\n",
    "    df_dt += -(right_flux - left_flux) / dq1\n",
    "    global E1, E1_n_plus_half\n",
    "    # Source term for the f_n evolution equation:\n",
    "    if(at_n):\n",
    "        J1 = e * af.sum(f_left * p1_center, 1) * dp1\n",
    "        evolve_E1(J1)\n",
    "        \n",
    "        E1_left  = E1_n_plus_half\n",
    "        E1_right = af.shift(E1_left, -1)\n",
    "        df_dt   += 0.5 * (e / m) * p1_center * (f_left * E1_left + f_right * E1_right)\n",
    "    \n",
    "    if(at_n == True):\n",
    "        # Getting C_p at q1_left_p1_center:\n",
    "        C_p1_center = 0.5 * (e / m) * E1_n_plus_half * p1_center**2\n",
    "        # Getting C_p at q1_left_p1_left:\n",
    "        C_p1_left   = 0.5 * (e / m) * E1_n_plus_half * p1_left**2\n",
    "        # Getting C_p at q1_left_p1_right:\n",
    "        C_p1_right  = 0.5 * (e / m) * E1_n_plus_half * p1_right**2\n",
    "\n",
    "        # Variation of p1 is along axis 0:\n",
    "        f_p1_left_plus_eps, f_p1_right_minus_eps = reconstruct_minmod(f, 1)\n",
    "        # f_left_minus_eps of i-th cell is f_right_minus_eps of the (i-1)th cell\n",
    "        f_p1_left_minus_eps = af.shift(f_p1_right_minus_eps, 0, 1)\n",
    "        f_p1_left  = riemann_solver(f_p1_left_minus_eps, f_p1_left_plus_eps, C_p1_center)\n",
    "        f_p1_right = af.shift(f_p1_left, 0, -1)\n",
    "        \n",
    "        # For flux along p1 at q1_left:\n",
    "        flux_p1_left_at_q1_left  = C_p1_left  * f_p1_left\n",
    "        flux_p1_right_at_q1_left = C_p1_right * f_p1_right\n",
    "\n",
    "        d_flux_p1_at_q1_left  = flux_p1_right_at_q1_left - flux_p1_left_at_q1_left\n",
    "        d_flux_p1_at_q1_right = af.shift(d_flux_p1_at_q1_left, -1)\n",
    "\n",
    "        df_dt += -0.5 * (d_flux_p1_at_q1_left + d_flux_p1_at_q1_right) / dp1\n",
    "        af.eval(df_dt)\n",
    "\n",
    "    else:\n",
    "        # Getting C_p at q1_left_p1_center:\n",
    "        C_p1 = (e / m) * E1\n",
    "        # Variation of p1 is along axis 0:\n",
    "        f_p1_left_plus_eps, f_p1_right_minus_eps = reconstruct_minmod(f, 1)\n",
    "        # f_left_minus_eps of i-th cell is f_right_minus_eps of the (i-1)th cell\n",
    "        f_p1_left_minus_eps = af.shift(f_p1_right_minus_eps, 0, 1)\n",
    "        f_p1_left = riemann_solver(f_p1_left_minus_eps, f_p1_left_plus_eps, C_p1)\n",
    "\n",
    "        # For flux along p1 at q1_left:\n",
    "        flux_p1_left_at_q1_left  = C_p1 * f_p1_left\n",
    "        flux_p1_right_at_q1_left = af.shift(flux_p1_left_at_q1_left, 0, -1)\n",
    "\n",
    "        d_flux_p1_at_q1_left  = flux_p1_right_at_q1_left - flux_p1_left_at_q1_left\n",
    "        d_flux_p1_at_q1_right = af.shift(d_flux_p1_at_q1_left, -1)\n",
    "\n",
    "        df_dt += -0.5 * (d_flux_p1_at_q1_left + d_flux_p1_at_q1_right) / dp1\n",
    "        af.eval(df_dt)\n",
    "    \n",
    "    # DEBUGGING:\n",
    "    # import time\n",
    "    # time.sleep(1)\n",
    "    # if(at_n):\n",
    "    #     print('dE_dt', af.sum(df_dt[N_g:-N_g]))\n",
    "    # else:\n",
    "    #     print('dn_dt', af.sum(df_dt[N_g:-N_g]))\n",
    "\n",
    "    if(at_n):\n",
    "        return(df_dt / p1_center**2)\n",
    "    else:\n",
    "        return df_dt"
   ]
  },
  {
   "cell_type": "code",
   "execution_count": 10,
   "metadata": {},
   "outputs": [],
   "source": [
    "def timestep():\n",
    "    \n",
    "    global f_n, f_n_plus_half\n",
    "    # Applying periodic boundary conditions:\n",
    "    f_n[:N_g]  = f_n[-2 * N_g:-N_g]\n",
    "    f_n[-N_g:] = f_n[N_g:2*N_g]\n",
    "    \n",
    "    # DEBUGGING:\n",
    "    # print('f_n')\n",
    "    f_n_plus_half = f_n_plus_half + df_dt_fvm(f_n, False) * dt\n",
    "    af.eval(f_n_plus_half)\n",
    "\n",
    "    # Applying periodic boundary conditions:\n",
    "    f_n_plus_half[:N_g]  = f_n_plus_half[-2 * N_g:-N_g]\n",
    "    f_n_plus_half[-N_g:] = f_n_plus_half[N_g:2*N_g]\n",
    "    # DEBUGGING:\n",
    "    # print('f_n_plus_half')\n",
    "    f_n = f_n + df_dt_fvm(f_n_plus_half, True) * dt\n",
    "    af.eval(f_n)"
   ]
  },
  {
   "cell_type": "code",
   "execution_count": 11,
   "metadata": {},
   "outputs": [
    {
     "name": "stdout",
     "output_type": "stream",
     "text": [
      "Computing For Time = 0.01\n",
      "Computing For Time = 0.02\n",
      "Computing For Time = 0.030000000000000002\n",
      "Computing For Time = 0.04000000000000001\n",
      "Computing For Time = 0.05\n",
      "Computing For Time = 0.060000000000000005\n",
      "Computing For Time = 0.07\n",
      "Computing For Time = 0.08\n",
      "Computing For Time = 0.09000000000000001\n",
      "Computing For Time = 0.1\n"
     ]
    }
   ],
   "source": [
    "# Main Loop:\n",
    "initial_mass            = af.sum(f_n_plus_half[N_g:-N_g]) * dp1\n",
    "initial_kinetic_energy  = 0.5 * m * af.sum((f_n * p1_center**2)[N_g:-N_g]) * dp1\n",
    "initial_electric_energy = 0.5 * eps * af.sum(E1[N_g:-N_g])**2\n",
    "initial_total_energy    = initial_kinetic_energy + initial_electric_energy\n",
    "\n",
    "n_data = np.zeros(time_array.size)\n",
    "for time_index, t0 in enumerate(time_array):\n",
    "    n_data[time_index] = af.max(af.sum(f_n[N_g:-N_g], 1) * dp1)\n",
    "    if((time_index + 1)%100 == 0):\n",
    "        print('Computing For Time =', t0)\n",
    "    timestep()"
   ]
  },
  {
   "cell_type": "code",
   "execution_count": 12,
   "metadata": {},
   "outputs": [],
   "source": [
    "final_mass            = af.sum(f_n_plus_half[N_g:-N_g]) * dp1\n",
    "final_kinetic_energy  = 0.5 * m * af.sum((f_n * p1_center**2)[N_g:-N_g]) * dp1\n",
    "final_electric_energy = 0.5 * eps * af.sum(E1[N_g:-N_g])**2\n",
    "final_total_energy    = final_kinetic_energy + final_electric_energy"
   ]
  },
  {
   "cell_type": "code",
   "execution_count": 13,
   "metadata": {},
   "outputs": [
    {
     "data": {
      "text/plain": [
       "0.0"
      ]
     },
     "execution_count": 13,
     "metadata": {},
     "output_type": "execute_result"
    }
   ],
   "source": [
    "abs(final_mass - initial_mass)"
   ]
  },
  {
   "cell_type": "code",
   "execution_count": 14,
   "metadata": {},
   "outputs": [
    {
     "data": {
      "text/plain": [
       "1.5947392739690258e-08"
      ]
     },
     "execution_count": 14,
     "metadata": {},
     "output_type": "execute_result"
    }
   ],
   "source": [
    "abs(final_kinetic_energy - initial_kinetic_energy)"
   ]
  },
  {
   "cell_type": "code",
   "execution_count": 15,
   "metadata": {},
   "outputs": [
    {
     "data": {
      "text/plain": [
       "8.061699091445016e-16"
      ]
     },
     "execution_count": 15,
     "metadata": {},
     "output_type": "execute_result"
    }
   ],
   "source": [
    "abs(final_electric_energy - initial_electric_energy)"
   ]
  },
  {
   "cell_type": "code",
   "execution_count": 16,
   "metadata": {},
   "outputs": [
    {
     "data": {
      "text/plain": [
       "1.5947392739690258e-08"
      ]
     },
     "execution_count": 16,
     "metadata": {},
     "output_type": "execute_result"
    }
   ],
   "source": [
    "abs(final_total_energy - initial_total_energy)"
   ]
  },
  {
   "cell_type": "code",
   "execution_count": 19,
   "metadata": {},
   "outputs": [
    {
     "data": {
      "text/plain": [
       "[<matplotlib.lines.Line2D at 0x7fad3abb7550>]"
      ]
     },
     "execution_count": 19,
     "metadata": {},
     "output_type": "execute_result"
    },
    {
     "data": {
      "image/png": "[encoded data removed]",
      "text/plain": [
       "<Figure size 2700x1200 with 1 Axes>"
      ]
     },
     "metadata": {
      "needs_background": "light"
     },
     "output_type": "display_data"
    }
   ],
   "source": [
    "pl.plot(time_array, n_data)"
   ]
  },
  {
   "cell_type": "code",
   "execution_count": null,
   "metadata": {},
   "outputs": [],
   "source": []
  }
 ],
 "metadata": {
  "kernelspec": {
   "display_name": "Python 3",
   "language": "python",
   "name": "python3"
  },
  "language_info": {
   "codemirror_mode": {
    "name": "ipython",
    "version": 3
   },
   "file_extension": ".py",
   "mimetype": "text/x-python",
   "name": "python",
   "nbconvert_exporter": "python",
   "pygments_lexer": "ipython3",
   "version": "3.7.1"
  }
 },
 "nbformat": 4,
 "nbformat_minor": 2
}
